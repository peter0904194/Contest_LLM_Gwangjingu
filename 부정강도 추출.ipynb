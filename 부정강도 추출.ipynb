{
 "cells": [
  {
   "cell_type": "code",
   "execution_count": 234,
   "id": "8427e8e3",
   "metadata": {},
   "outputs": [
    {
     "data": {
      "text/plain": [
       "True"
      ]
     },
     "execution_count": 234,
     "metadata": {},
     "output_type": "execute_result"
    }
   ],
   "source": [
    "# 토큰 불러오기\n",
    "from dotenv import load_dotenv\n",
    "\n",
    "load_dotenv(override=True)"
   ]
  },
  {
   "cell_type": "code",
   "execution_count": null,
   "id": "9c4c8e18",
   "metadata": {},
   "outputs": [
    {
     "name": "stdout",
     "output_type": "stream",
     "text": [
      "LangSmith 추적을 시작합니다.\n",
      "[프로젝트명]\n",
      "review_sentiment_7\n"
     ]
    }
   ],
   "source": [
    "# LangSmith 추적을 설정\n",
    "# !pip install langchain-teddynote\n",
    "from langchain_teddynote import logging\n",
    "\n",
    "# 프로젝트 이름을 입력합니다.\n",
    "logging.langsmith(\"review_sentiment_7\")"
   ]
  },
  {
   "cell_type": "code",
   "execution_count": 237,
   "id": "7c798c76",
   "metadata": {},
   "outputs": [],
   "source": [
    "# llm 모델 정의\n",
    "from langchain_openai import ChatOpenAI\n",
    "\n",
    "llm = ChatOpenAI(temperature=0.3, model_name=\"gpt-4o\")"
   ]
  },
  {
   "cell_type": "code",
   "execution_count": null,
   "id": "a4146a50",
   "metadata": {},
   "outputs": [
    {
     "name": "stdout",
     "output_type": "stream",
     "text": [
      "<class 'pandas.core.frame.DataFrame'>\n",
      "RangeIndex: 15 entries, 0 to 14\n",
      "Data columns (total 6 columns):\n",
      " #   Column  Non-Null Count  Dtype  \n",
      "---  ------  --------------  -----  \n",
      " 0   가게명     15 non-null     object \n",
      " 1   카테고리    15 non-null     object \n",
      " 2   리뷰      15 non-null     object \n",
      " 3   원본 리뷰   15 non-null     object \n",
      " 4   감성      15 non-null     object \n",
      " 5   감성 스코어  15 non-null     float64\n",
      "dtypes: float64(1), object(5)\n",
      "memory usage: 852.0+ bytes\n"
     ]
    }
   ],
   "source": [
    "# 데이터 가져오기\n",
    "import pandas as pd\n",
    "\n",
    "df = pd.read_csv(\n",
    "    \"/Users/seojeonghun/Documents/langchain-kr/20-Projects/review/비외식업 감정/review_negative_비외식업_세탁.csv\",\n",
    "    encoding=\"utf-8\",\n",
    ")\n",
    "df.info()"
   ]
  },
  {
   "cell_type": "code",
   "execution_count": 273,
   "id": "5b3026fe",
   "metadata": {},
   "outputs": [
    {
     "name": "stdout",
     "output_type": "stream",
     "text": [
      "<class 'pandas.core.frame.DataFrame'>\n",
      "Index: 9 entries, 0 to 11\n",
      "Data columns (total 6 columns):\n",
      " #   Column  Non-Null Count  Dtype  \n",
      "---  ------  --------------  -----  \n",
      " 0   가게명     9 non-null      object \n",
      " 1   카테고리    9 non-null      object \n",
      " 2   리뷰      9 non-null      object \n",
      " 3   원본 리뷰   9 non-null      object \n",
      " 4   감성      9 non-null      object \n",
      " 5   감성 스코어  9 non-null      float64\n",
      "dtypes: float64(1), object(5)\n",
      "memory usage: 504.0+ bytes\n",
      "<class 'pandas.core.frame.DataFrame'>\n",
      "Index: 6 entries, 1 to 14\n",
      "Data columns (total 6 columns):\n",
      " #   Column  Non-Null Count  Dtype  \n",
      "---  ------  --------------  -----  \n",
      " 0   가게명     6 non-null      object \n",
      " 1   카테고리    6 non-null      object \n",
      " 2   리뷰      6 non-null      object \n",
      " 3   원본 리뷰   6 non-null      object \n",
      " 4   감성      6 non-null      object \n",
      " 5   감성 스코어  6 non-null      float64\n",
      "dtypes: float64(1), object(5)\n",
      "memory usage: 336.0+ bytes\n"
     ]
    }
   ],
   "source": [
    "# 서비스, 위생 데이터셋 구분\n",
    "service_df = df[df[\"카테고리\"].str.contains(\"서비스\", na=False)]\n",
    "hygiene_df = df[df[\"카테고리\"].str.contains(\"위생\", na=False)]\n",
    "\n",
    "service_df.info()\n",
    "hygiene_df.info()"
   ]
  },
  {
   "cell_type": "code",
   "execution_count": 281,
   "id": "a82fc637",
   "metadata": {},
   "outputs": [
    {
     "data": {
      "text/plain": [
       "9"
      ]
     },
     "execution_count": 281,
     "metadata": {},
     "output_type": "execute_result"
    }
   ],
   "source": [
    "# input 데이터 로드\n",
    "input_review = service_df[\"리뷰\"]\n",
    "\n",
    "input_review_test = input_review\n",
    "input_review_test = input_review_test.to_list()\n",
    "\n",
    "len(input_review_test)"
   ]
  },
  {
   "cell_type": "markdown",
   "id": "74c62cbb",
   "metadata": {},
   "source": [
    "### GPT-4o 사용"
   ]
  },
  {
   "cell_type": "code",
   "execution_count": 282,
   "id": "047e522b",
   "metadata": {},
   "outputs": [
    {
     "data": {
      "text/plain": [
       "FewShotPromptTemplate(input_variables=['format_instructions', 'input_review_test'], input_types={}, partial_variables={}, examples=[{'input_review_test': '사장님의 조금 덜 친절하세요.', 'output': '{{\\n  \"score\": 0.17,\\n  \"reason\": \"서비스에 대한 약한 아쉬움 표현으로 부정 감정이 있으나 경미함\"\\n}} \\n'}, {'input_review_test': '직원이 불친절하게 대해줘서 기분이 나빠요', 'output': '{{\\n  \"score\": 0.43,\\n  \"reason\": \"서비스 문제에 대한 직접적인 언급과 기분 표현이 있으며, 강한 표현은 아님\"\\n}} \\n'}, {'input_review_test': '직원 분이 정말 불친절하게 응대하시네요. 화가 났어요', 'output': '{{\\n  \"score\": 0.68,\\n  \"reason\": \"강한 표현 \\'정말 별로\\' 사용으로 높은 수준의 부정 감정\"\\n}}\\n'}, {'input_review_test': '오히려 사장님이 화를 내시네요. 정말 다시는 가고 싶지 않습니다. 최악이에요.', 'output': '{{\\n  \"score\": 0.85,\\n  \"reason\": \"강도 높은 혐오 표현의 반복과 극단적인 단절 의사로 인해 매우 강한 부정 감정\"\\n}} \\n'}], example_prompt=PromptTemplate(input_variables=['input_review_test', 'output'], input_types={}, partial_variables={}, template='리뷰: {input_review_test}\\n#Answer:\\n{output}\\n'), suffix='리뷰: {input_review_test}\\n\\n#Answer:\\n', prefix='당신은 한국어 리뷰에 대한 감정의 강도를 분석하는 전문 감정 분석가입니다.\\n리뷰에 부정적인 표현이 있더라도 일반적인 불만 수준이라면 너무 높은 점수를 부여하지 않도록 주의해주세요.\\n이 점수는 부정 감정의 강도를 의미하며,  \\n- 0은 부정적 감정이 전혀 없음  \\n- 1은 매우 극단적인 부정 감정 (혐오, 분노 등)을 의미합니다.  \\n\\n아래는 일반적인 기준이지만, 점수는 0.00~1.00의 연속적인 값으로 출력되어야 합니다:\\n- 0.0~0.3 : 가벼운 불만이나 약한 부정  \\n- 0.3~0.7 : 명확한 불만 표현이나 중간 수준의 부정   \\n- 0.7~1.0 : 매우 극단적인 불만 표현이나 매우 강한 부정 \\n\\n중요:  \\n- 단, 리뷰 내용이 \\'서비스\\'와 직접적으로 관련되지 않은 경우에는 감정의 정도와 무관하게 `\"score\": null`로 출력해야 합니다.\\n- 부정 감정이 전혀 없다고 판단되면 `\"score\": null`로 출력해주세요.\\n- 숫자는 반드시 `.00`, `.25`, `.5`와 같이 정해진 값만이 아닌, 0.17, 0.51, 0.82 등 미세한 수치로 출력되어야 합니다.\\n- 사람들의 리뷰에는 부정적인 표현이 자주 포함되지만, 실제 감정 강도는 그보다 약한 경우가 많습니다. 과도하게 감정 점수를 높게 책정하지 마세요.\\n\\n{format_instructions}\\n')"
      ]
     },
     "execution_count": 282,
     "metadata": {},
     "output_type": "execute_result"
    }
   ],
   "source": [
    "# prompt 가져오기\n",
    "from langchain_core.prompts import load_prompt\n",
    "\n",
    "prompt = load_prompt(\n",
    "    \"/Users/seojeonghun/Documents/langchain-kr/20-Projects/review/sentiment_service_fewshot.yaml\",\n",
    "    encoding=\"utf-8\",\n",
    ")\n",
    "prompt"
   ]
  },
  {
   "cell_type": "code",
   "execution_count": null,
   "id": "b2f631c4",
   "metadata": {},
   "outputs": [],
   "source": [
    "# 출력 데이터 모델 정의 (score, reason)\n",
    "from langchain.output_parsers import PydanticOutputParser\n",
    "from pydantic import BaseModel, Field\n",
    "from typing import Optional\n",
    "\n",
    "\n",
    "class SentimentResult(BaseModel):\n",
    "    score: Optional[float] = Field(\n",
    "        description=\"0~1 사이의 감정 점수. 1에 가까울수록 강한 부정 감정.\"\n",
    "    )\n",
    "    reason: str = Field(description=\"해당 점수를 준 이유를 짧게 서술.\")\n",
    "\n",
    "\n",
    "output_parser = PydanticOutputParser(pydantic_object=SentimentResult)"
   ]
  },
  {
   "cell_type": "code",
   "execution_count": 284,
   "id": "5cc0ece6",
   "metadata": {},
   "outputs": [],
   "source": [
    "format_instructions = output_parser.get_format_instructions()\n",
    "prompt = prompt.partial(format_instructions=format_instructions)"
   ]
  },
  {
   "cell_type": "code",
   "execution_count": 285,
   "id": "b74e81e8",
   "metadata": {},
   "outputs": [],
   "source": [
    "# 체인 생성\n",
    "chain = prompt | llm | output_parser"
   ]
  },
  {
   "cell_type": "code",
   "execution_count": null,
   "id": "8aa128cf",
   "metadata": {},
   "outputs": [],
   "source": [
    "# chain 실행 및 결과 출력\n",
    "results = []\n",
    "for review in input_review_test:\n",
    "    result = chain.invoke(\n",
    "        {\n",
    "            \"input_review_test\": review,\n",
    "            \"format_instructions\": output_parser.get_format_instructions(),\n",
    "        }\n",
    "    )\n",
    "    results.append({\"review\": review, \"score\": result.score, \"reason\": result.reason})"
   ]
  },
  {
   "cell_type": "code",
   "execution_count": null,
   "id": "849cbb0e",
   "metadata": {},
   "outputs": [],
   "source": [
    "# 데이터프레임 형식으로 저장\n",
    "df_results = pd.DataFrame(results)\n",
    "\n",
    "df_results.to_csv(\n",
    "    \"/Users/seojeonghun/Documents/langchain-kr/20-Projects/review/scoring_data/0428/비외식업_세탁_서비스점수.csv\",\n",
    "    index=False,\n",
    "    encoding=\"utf-8-sig\",\n",
    ")"
   ]
  }
 ],
 "metadata": {
  "kernelspec": {
   "display_name": "langchain-kr-xYbo28O8-py3.11",
   "language": "python",
   "name": "python3"
  },
  "language_info": {
   "codemirror_mode": {
    "name": "ipython",
    "version": 3
   },
   "file_extension": ".py",
   "mimetype": "text/x-python",
   "name": "python",
   "nbconvert_exporter": "python",
   "pygments_lexer": "ipython3",
   "version": "3.11.11"
  }
 },
 "nbformat": 4,
 "nbformat_minor": 5
}
